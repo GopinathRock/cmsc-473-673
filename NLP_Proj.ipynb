{
  "nbformat": 4,
  "nbformat_minor": 0,
  "metadata": {
    "colab": {
      "name": "NLP_Proj.ipynb",
      "provenance": [],
      "include_colab_link": true
    },
    "kernelspec": {
      "name": "python3",
      "display_name": "Python 3"
    },
    "accelerator": "GPU"
  },
  "cells": [
    {
      "cell_type": "markdown",
      "metadata": {
        "id": "view-in-github",
        "colab_type": "text"
      },
      "source": [
        "<a href=\"https://colab.research.google.com/github/nikimar1/cmsc-473-673/blob/master/NLP_Proj.ipynb\" target=\"_parent\"><img src=\"https://colab.research.google.com/assets/colab-badge.svg\" alt=\"Open In Colab\"/></a>"
      ]
    },
    {
      "cell_type": "code",
      "metadata": {
        "id": "hDqdtARrubP-",
        "colab_type": "code",
        "outputId": "96487521-fdbb-41ef-c174-7dc601462ec0",
        "colab": {
          "base_uri": "https://localhost:8080/",
          "height": 34
        }
      },
      "source": [
        "\n",
        "from google.colab import drive\n",
        "drive.mount('/content/drive')\n",
        "\n"
      ],
      "execution_count": 8,
      "outputs": [
        {
          "output_type": "stream",
          "text": [
            "Drive already mounted at /content/drive; to attempt to forcibly remount, call drive.mount(\"/content/drive\", force_remount=True).\n"
          ],
          "name": "stdout"
        }
      ]
    },
    {
      "cell_type": "code",
      "metadata": {
        "id": "7ER24XIv-59I",
        "colab_type": "code",
        "colab": {}
      },
      "source": [
        "def dataset_build(lang, no_of_file,index_start):\n",
        "\n",
        "\tdatas = list()\n",
        "\tdata_dict = dict()\n",
        "\t\n",
        "\tfor i in range(1,no_of_file+1):\n",
        "\t\tfile_name = \"drive/My Drive/Colab Notebooks/Dataset/\"+ lang+\"/\"+lang + ' (' + str(i) + ').txt'\n",
        "\t\ttry:\n",
        "\t\t\tfile = open(file_name, \"r\", encoding=\"utf-8\")\n",
        "\t\t\tdatas += file.readlines()\n",
        "\t\tfinally:\n",
        "\t\t\tfile.close()\n",
        "\n",
        "\tfor i,data in enumerate(datas):\n",
        "\t\tsent_dict = dict()\n",
        "\t\tsent_dict[\"label\"] = lang\n",
        "\t\tsent_dict[\"sentence\"] = data.strip(\"\\n\").split(\"\\t\")[1]\n",
        "\t\t#print(sent_dict[\"sentence\"])\n",
        "\t\tdata_dict[i+index_start] = sent_dict\n",
        "\n",
        "\treturn pd.DataFrame(data_dict).transpose() "
      ],
      "execution_count": 0,
      "outputs": []
    },
    {
      "cell_type": "code",
      "metadata": {
        "id": "0vMoGC02--PB",
        "colab_type": "code",
        "colab": {
          "base_uri": "https://localhost:8080/",
          "height": 231
        },
        "outputId": "5719e30b-91b5-4771-b750-d5067390c2bd"
      },
      "source": [
        "import pandas as pd\n",
        "\n",
        "total_file_in_english = 1\n",
        "total_file_in_german = 1\n",
        "english = dataset_build(\"English\", total_file_in_english, 0)\n",
        "german = dataset_build(\"German\", total_file_in_german, english.index[-1]+1)\n",
        "french = dataset_build(\"French\", total_file_in_french, german.index[-1]+1)\n",
        "italian = dataset_build(\"Italian\", total_file_in_italian, french.index[-1]+1)\n",
        "frames = [english,german,french,italian]"
      ],
      "execution_count": 10,
      "outputs": [
        {
          "output_type": "error",
          "ename": "NameError",
          "evalue": "ignored",
          "traceback": [
            "\u001b[0;31m---------------------------------------------------------------------------\u001b[0m",
            "\u001b[0;31mNameError\u001b[0m                                 Traceback (most recent call last)",
            "\u001b[0;32m<ipython-input-10-cd38743b6c43>\u001b[0m in \u001b[0;36m<module>\u001b[0;34m()\u001b[0m\n\u001b[1;32m      5\u001b[0m \u001b[0menglish\u001b[0m \u001b[0;34m=\u001b[0m \u001b[0mdataset_build\u001b[0m\u001b[0;34m(\u001b[0m\u001b[0;34m\"English\"\u001b[0m\u001b[0;34m,\u001b[0m \u001b[0mtotal_file_in_english\u001b[0m\u001b[0;34m,\u001b[0m \u001b[0;36m0\u001b[0m\u001b[0;34m)\u001b[0m\u001b[0;34m\u001b[0m\u001b[0;34m\u001b[0m\u001b[0m\n\u001b[1;32m      6\u001b[0m \u001b[0mgerman\u001b[0m \u001b[0;34m=\u001b[0m \u001b[0mdataset_build\u001b[0m\u001b[0;34m(\u001b[0m\u001b[0;34m\"German\"\u001b[0m\u001b[0;34m,\u001b[0m \u001b[0mtotal_file_in_german\u001b[0m\u001b[0;34m,\u001b[0m \u001b[0menglish\u001b[0m\u001b[0;34m.\u001b[0m\u001b[0mindex\u001b[0m\u001b[0;34m[\u001b[0m\u001b[0;34m-\u001b[0m\u001b[0;36m1\u001b[0m\u001b[0;34m]\u001b[0m\u001b[0;34m+\u001b[0m\u001b[0;36m1\u001b[0m\u001b[0;34m)\u001b[0m\u001b[0;34m\u001b[0m\u001b[0;34m\u001b[0m\u001b[0m\n\u001b[0;32m----> 7\u001b[0;31m \u001b[0mfrench\u001b[0m \u001b[0;34m=\u001b[0m \u001b[0mdataset_build\u001b[0m\u001b[0;34m(\u001b[0m\u001b[0;34m\"French\"\u001b[0m\u001b[0;34m,\u001b[0m \u001b[0mtotal_file_in_french\u001b[0m\u001b[0;34m,\u001b[0m \u001b[0mgerman\u001b[0m\u001b[0;34m.\u001b[0m\u001b[0mindex\u001b[0m\u001b[0;34m[\u001b[0m\u001b[0;34m-\u001b[0m\u001b[0;36m1\u001b[0m\u001b[0;34m]\u001b[0m\u001b[0;34m+\u001b[0m\u001b[0;36m1\u001b[0m\u001b[0;34m)\u001b[0m\u001b[0;34m\u001b[0m\u001b[0;34m\u001b[0m\u001b[0m\n\u001b[0m\u001b[1;32m      8\u001b[0m \u001b[0mitalian\u001b[0m \u001b[0;34m=\u001b[0m \u001b[0mdataset_build\u001b[0m\u001b[0;34m(\u001b[0m\u001b[0;34m\"Italian\"\u001b[0m\u001b[0;34m,\u001b[0m \u001b[0mtotal_file_in_italian\u001b[0m\u001b[0;34m,\u001b[0m \u001b[0mfrench\u001b[0m\u001b[0;34m.\u001b[0m\u001b[0mindex\u001b[0m\u001b[0;34m[\u001b[0m\u001b[0;34m-\u001b[0m\u001b[0;36m1\u001b[0m\u001b[0;34m]\u001b[0m\u001b[0;34m+\u001b[0m\u001b[0;36m1\u001b[0m\u001b[0;34m)\u001b[0m\u001b[0;34m\u001b[0m\u001b[0;34m\u001b[0m\u001b[0m\n\u001b[1;32m      9\u001b[0m \u001b[0mframes\u001b[0m \u001b[0;34m=\u001b[0m \u001b[0;34m[\u001b[0m\u001b[0menglish\u001b[0m\u001b[0;34m,\u001b[0m\u001b[0mgerman\u001b[0m\u001b[0;34m,\u001b[0m\u001b[0mfrench\u001b[0m\u001b[0;34m,\u001b[0m\u001b[0mitalian\u001b[0m\u001b[0;34m]\u001b[0m\u001b[0;34m\u001b[0m\u001b[0;34m\u001b[0m\u001b[0m\n",
            "\u001b[0;31mNameError\u001b[0m: name 'total_file_in_french' is not defined"
          ]
        }
      ]
    },
    {
      "cell_type": "code",
      "metadata": {
        "id": "JQ42zpQsGqfr",
        "colab_type": "code",
        "colab": {}
      },
      "source": [
        ""
      ],
      "execution_count": 0,
      "outputs": []
    },
    {
      "cell_type": "code",
      "metadata": {
        "id": "t_cKkEzZ-Wcx",
        "colab_type": "code",
        "colab": {}
      },
      "source": [
        "from sklearn.model_selection import train_test_split\n",
        "\n",
        "data_train_df = pd.concat(frames)\n",
        "\n",
        "x_train, x_test, y_train, y_test = train_test_split(data_train_df.sentence, data_train_df.label, test_size=0.3, shuffle=True)"
      ],
      "execution_count": 0,
      "outputs": []
    },
    {
      "cell_type": "code",
      "metadata": {
        "id": "sS3bq11l0TD9",
        "colab_type": "code",
        "colab": {}
      },
      "source": [
        "from sklearn.model_selection import train_test_split\n",
        "from sklearn.feature_extraction.text import CountVectorizer\n",
        "from sklearn.feature_extraction.text import TfidfTransformer\n",
        "from sklearn.naive_bayes import MultinomialNB\n",
        "\n",
        "\n",
        "count_vect = CountVectorizer(ngram_range=(1,5), analyzer='word',lowercase=True)\n",
        "X_train_counts = count_vect.fit_transform(x_train)\n",
        "\n"
      ],
      "execution_count": 0,
      "outputs": []
    },
    {
      "cell_type": "code",
      "metadata": {
        "id": "zIUBmKYx0VQU",
        "colab_type": "code",
        "colab": {}
      },
      "source": [
        "clf = MultinomialNB().fit(X_train_counts, y_train)\n",
        "prediction = clf.predict(count_vect.transform(x_test))\n",
        "\n",
        "from sklearn import metrics\n",
        "from sklearn.metrics import accuracy_score, confusion_matrix, classification_report\n",
        "\n",
        "accuracy = accuracy_score(y_test, prediction)\n",
        "print(accuracy)\n",
        "print(metrics.classification_report(y_test, prediction))"
      ],
      "execution_count": 0,
      "outputs": []
    },
    {
      "cell_type": "code",
      "metadata": {
        "id": "295Kggp9mgcE",
        "colab_type": "code",
        "colab": {}
      },
      "source": [
        "from sklearn.linear_model import LogisticRegression\n",
        "\n",
        "c2 = 5.1\n",
        "\n",
        "LogReg = LogisticRegression(C=c2,penalty='l2')\n",
        "\n",
        "clf = LogReg.fit(X_train_counts, y_train)\n",
        "prediction = clf.predict(count_vect.transform(x_test))\n",
        "\n",
        "from sklearn import metrics\n",
        "from sklearn.metrics import accuracy_score, confusion_matrix, classification_report\n",
        "\n",
        "accuracy = accuracy_score(y_test, prediction)\n",
        "print(accuracy)\n",
        "print(metrics.classification_report(y_test, prediction))"
      ],
      "execution_count": 0,
      "outputs": []
    },
    {
      "cell_type": "code",
      "metadata": {
        "id": "nKtQuPdg0xT2",
        "colab_type": "code",
        "colab": {}
      },
      "source": [
        ""
      ],
      "execution_count": 0,
      "outputs": []
    },
    {
      "cell_type": "code",
      "metadata": {
        "id": "lh7S49pEmBCN",
        "colab_type": "code",
        "colab": {}
      },
      "source": [
        ""
      ],
      "execution_count": 0,
      "outputs": []
    },
    {
      "cell_type": "code",
      "metadata": {
        "id": "T34ZRbMy7wxE",
        "colab_type": "code",
        "colab": {}
      },
      "source": [
        ""
      ],
      "execution_count": 0,
      "outputs": []
    },
    {
      "cell_type": "code",
      "metadata": {
        "id": "JAyRaOfZDM3I",
        "colab_type": "code",
        "colab": {}
      },
      "source": [
        ""
      ],
      "execution_count": 0,
      "outputs": []
    }
  ]
}