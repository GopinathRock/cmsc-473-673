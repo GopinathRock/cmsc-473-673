{
  "nbformat": 4,
  "nbformat_minor": 0,
  "metadata": {
    "colab": {
      "name": "NLP_Proj.ipynb",
      "provenance": [],
      "include_colab_link": true
    },
    "kernelspec": {
      "name": "python3",
      "display_name": "Python 3"
    },
    "accelerator": "GPU"
  },
  "cells": [
    {
      "cell_type": "markdown",
      "metadata": {
        "id": "view-in-github",
        "colab_type": "text"
      },
      "source": [
        "<a href=\"https://colab.research.google.com/github/nikimar1/cmsc-473-673/blob/master/NLP_Proj.ipynb\" target=\"_parent\"><img src=\"https://colab.research.google.com/assets/colab-badge.svg\" alt=\"Open In Colab\"/></a>"
      ]
    },
    {
      "cell_type": "code",
      "metadata": {
        "id": "hDqdtARrubP-",
        "colab_type": "code",
        "outputId": "7d108866-fe40-4c8b-f60e-6084511c454c",
        "colab": {
          "base_uri": "https://localhost:8080/",
          "height": 122
        }
      },
      "source": [
        "\n",
        "from google.colab import drive\n",
        "drive.mount('/content/drive')\n",
        "\n"
      ],
      "execution_count": 1,
      "outputs": [
        {
          "output_type": "stream",
          "text": [
            "Go to this URL in a browser: https://accounts.google.com/o/oauth2/auth?client_id=947318989803-6bn6qk8qdgf4n4g3pfee6491hc0brc4i.apps.googleusercontent.com&redirect_uri=urn%3aietf%3awg%3aoauth%3a2.0%3aoob&response_type=code&scope=email%20https%3a%2f%2fwww.googleapis.com%2fauth%2fdocs.test%20https%3a%2f%2fwww.googleapis.com%2fauth%2fdrive%20https%3a%2f%2fwww.googleapis.com%2fauth%2fdrive.photos.readonly%20https%3a%2f%2fwww.googleapis.com%2fauth%2fpeopleapi.readonly\n",
            "\n",
            "Enter your authorization code:\n",
            "··········\n",
            "Mounted at /content/drive\n"
          ],
          "name": "stdout"
        }
      ]
    },
    {
      "cell_type": "code",
      "metadata": {
        "id": "7ER24XIv-59I",
        "colab_type": "code",
        "colab": {}
      },
      "source": [
        "def dataset_build(lang, no_of_file,index_start):\n",
        "\n",
        "\tdatas = list()\n",
        "\tdata_dict = dict()\n",
        "\t\n",
        "\tfor i in range(1,no_of_file+1):\n",
        "\t\tfile_name = \"drive/My Drive/Colab Notebooks/Dataset/\"+ lang+\"/\"+lang + ' (' + str(i) + ').txt'\n",
        "\t\ttry:\n",
        "\t\t\tfile = open(file_name, \"r\", encoding=\"utf-8\")\n",
        "\t\t\tdatas += file.readlines()\n",
        "\t\tfinally:\n",
        "\t\t\tfile.close()\n",
        "\n",
        "\tfor i,data in enumerate(datas):\n",
        "\t\tsent_dict = dict()\n",
        "\t\tsent_dict[\"label\"] = lang\n",
        "\t\tsent_dict[\"sentence\"] = data.strip(\"\\n\").split(\"\\t\")[1]\n",
        "\t\t#print(sent_dict[\"sentence\"])\n",
        "\t\tdata_dict[i+index_start] = sent_dict\n",
        "\n",
        "\treturn pd.DataFrame(data_dict).transpose() "
      ],
      "execution_count": 0,
      "outputs": []
    },
    {
      "cell_type": "code",
      "metadata": {
        "id": "0vMoGC02--PB",
        "colab_type": "code",
        "colab": {}
      },
      "source": [
        "import pandas as pd\n",
        "\n",
        "total_file_in_english = 1\n",
        "total_file_in_german = 1\n",
        "english = dataset_build(\"English\", total_file_in_english, 0)\n",
        "german = dataset_build(\"German\", total_file_in_german, english.index[-1]+1)\n",
        "frames = [english,german]"
      ],
      "execution_count": 0,
      "outputs": []
    },
    {
      "cell_type": "code",
      "metadata": {
        "id": "JQ42zpQsGqfr",
        "colab_type": "code",
        "colab": {}
      },
      "source": [
        ""
      ],
      "execution_count": 0,
      "outputs": []
    },
    {
      "cell_type": "code",
      "metadata": {
        "id": "t_cKkEzZ-Wcx",
        "colab_type": "code",
        "colab": {}
      },
      "source": [
        "from sklearn.model_selection import train_test_split\n",
        "\n",
        "data_train_df = pd.concat(frames)\n",
        "data_dev_df = pd.DataFrame(data_dev, columns = ['label', 'sentence'])\n",
        "\n",
        "x_train, x_test, y_train, y_test = train_test_split(data_train_df.sentence, data_train_df.label, test_size=0.3, random_state=42)"
      ],
      "execution_count": 0,
      "outputs": []
    },
    {
      "cell_type": "code",
      "metadata": {
        "id": "sS3bq11l0TD9",
        "colab_type": "code",
        "colab": {}
      },
      "source": [
        "from sklearn.model_selection import train_test_split\n",
        "from sklearn.feature_extraction.text import CountVectorizer\n",
        "from sklearn.feature_extraction.text import TfidfTransformer\n",
        "from sklearn.naive_bayes import MultinomialNB\n",
        "\n",
        "\n",
        "count_vect = CountVectorizer(ngram_range=(1,5), analyzer='word',lowercase=True)\n",
        "X_train_counts = count_vect.fit_transform(x_train)\n",
        "\n"
      ],
      "execution_count": 0,
      "outputs": []
    },
    {
      "cell_type": "code",
      "metadata": {
        "id": "zIUBmKYx0VQU",
        "colab_type": "code",
        "outputId": "30631545-2f3d-42f7-f5e6-94f8a22dd629",
        "colab": {
          "base_uri": "https://localhost:8080/",
          "height": 187
        }
      },
      "source": [
        "clf = MultinomialNB().fit(X_train_counts, y_train)\n",
        "prediction = clf.predict(count_vect.transform(x_test))\n",
        "\n",
        "from sklearn import metrics\n",
        "from sklearn.metrics import accuracy_score, confusion_matrix, classification_report\n",
        "\n",
        "accuracy = accuracy_score(y_test, prediction)\n",
        "print(accuracy)\n",
        "print(metrics.classification_report(y_test, prediction))"
      ],
      "execution_count": 28,
      "outputs": [
        {
          "output_type": "stream",
          "text": [
            "1.0\n",
            "              precision    recall  f1-score   support\n",
            "\n",
            "     English       1.00      1.00      1.00      3017\n",
            "      German       1.00      1.00      1.00      2983\n",
            "\n",
            "    accuracy                           1.00      6000\n",
            "   macro avg       1.00      1.00      1.00      6000\n",
            "weighted avg       1.00      1.00      1.00      6000\n",
            "\n"
          ],
          "name": "stdout"
        }
      ]
    },
    {
      "cell_type": "code",
      "metadata": {
        "id": "295Kggp9mgcE",
        "colab_type": "code",
        "colab": {
          "base_uri": "https://localhost:8080/",
          "height": 221
        },
        "outputId": "c27e8265-55a2-444e-eb58-5b0a94723ea0"
      },
      "source": [
        "from sklearn.linear_model import LogisticRegression\n",
        "\n",
        "c2 = 5.1\n",
        "\n",
        "LogReg = LogisticRegression(C=c2,penalty='l2')\n",
        "\n",
        "clf = LogReg.fit(X_train_counts, y_train)\n",
        "prediction = clf.predict(count_vect.transform(x_test))\n",
        "\n",
        "from sklearn import metrics\n",
        "from sklearn.metrics import accuracy_score, confusion_matrix, classification_report\n",
        "\n",
        "accuracy = accuracy_score(y_test, prediction)\n",
        "print(accuracy)\n",
        "print(metrics.classification_report(y_test, prediction))"
      ],
      "execution_count": 29,
      "outputs": [
        {
          "output_type": "stream",
          "text": [
            "/usr/local/lib/python3.6/dist-packages/sklearn/linear_model/logistic.py:432: FutureWarning: Default solver will be changed to 'lbfgs' in 0.22. Specify a solver to silence this warning.\n",
            "  FutureWarning)\n"
          ],
          "name": "stderr"
        },
        {
          "output_type": "stream",
          "text": [
            "0.999\n",
            "              precision    recall  f1-score   support\n",
            "\n",
            "     English       1.00      1.00      1.00      3017\n",
            "      German       1.00      1.00      1.00      2983\n",
            "\n",
            "    accuracy                           1.00      6000\n",
            "   macro avg       1.00      1.00      1.00      6000\n",
            "weighted avg       1.00      1.00      1.00      6000\n",
            "\n"
          ],
          "name": "stdout"
        }
      ]
    },
    {
      "cell_type": "code",
      "metadata": {
        "id": "nKtQuPdg0xT2",
        "colab_type": "code",
        "outputId": "efb97bbe-0ad2-4668-f52e-5fac93d2c50b",
        "colab": {
          "base_uri": "https://localhost:8080/",
          "height": 170
        }
      },
      "source": [
        ""
      ],
      "execution_count": 19,
      "outputs": [
        {
          "output_type": "stream",
          "text": [
            "              precision    recall  f1-score   support\n",
            "\n",
            "     English       1.00      1.00      1.00      3017\n",
            "      German       1.00      1.00      1.00      2983\n",
            "\n",
            "    accuracy                           1.00      6000\n",
            "   macro avg       1.00      1.00      1.00      6000\n",
            "weighted avg       1.00      1.00      1.00      6000\n",
            "\n"
          ],
          "name": "stdout"
        }
      ]
    },
    {
      "cell_type": "code",
      "metadata": {
        "id": "lh7S49pEmBCN",
        "colab_type": "code",
        "colab": {
          "base_uri": "https://localhost:8080/",
          "height": 34
        },
        "outputId": "aa9d8358-59e5-4c5d-eacd-15c5927dea65"
      },
      "source": [
        ""
      ],
      "execution_count": 22,
      "outputs": [
        {
          "output_type": "stream",
          "text": [
            "1.0\n"
          ],
          "name": "stdout"
        }
      ]
    },
    {
      "cell_type": "code",
      "metadata": {
        "id": "T34ZRbMy7wxE",
        "colab_type": "code",
        "colab": {}
      },
      "source": [
        "from sklearn.svm import SVC\n",
        "from sklearn.multiclass import OneVsRestClassifier\n",
        "    \n",
        "classif = OneVsRestClassifier(SVC(kernel='linear',probability=True))\n",
        "classif.fit(X_train_counts,data_train_df['label'])"
      ],
      "execution_count": 0,
      "outputs": []
    },
    {
      "cell_type": "code",
      "metadata": {
        "id": "JAyRaOfZDM3I",
        "colab_type": "code",
        "colab": {}
      },
      "source": [
        "print(classif.predict_proba(count_vect.transform(data_dev_df.sentence)))\n",
        "print(classif.predict(count_vect.transform(data_dev_df.sentence)))"
      ],
      "execution_count": 0,
      "outputs": []
    }
  ]
}